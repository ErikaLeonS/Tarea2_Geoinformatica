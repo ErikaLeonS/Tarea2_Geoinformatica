{
  "nbformat": 4,
  "nbformat_minor": 0,
  "metadata": {
    "colab": {
      "name": "GI_Tarea-1.ipynb",
      "provenance": [],
      "collapsed_sections": []
    },
    "kernelspec": {
      "name": "python3",
      "display_name": "Python 3"
    },
    "language_info": {
      "name": "python"
    }
  },
  "cells": [
    {
      "cell_type": "markdown",
      "metadata": {
        "id": "e4Qk4hXreloD"
      },
      "source": [
        "<h1><center> Introducción a la GeoInformática - Tarea 1    </center></h1>\n",
        "\n",
        "<h3><center> Profesor: Mtro. Alberto Porras Velázquez    </center></h3>\n",
        "\n",
        "<h3><center> Alumno: Jonathan Zárate Cartas     </center></h3>\n",
        "\n",
        "<h3><center> Alumno: Érika León Soriano   </center></h3>\n",
        "\n",
        "<h3><center> Alumno:   Mitsui Salgado  </center></h3>\n",
        "\n",
        "<h3><center> Alumno: Jorge Manuel Pool Cen     </center></h3>\n",
        "\n",
        "<h3><center> Alumno: Jorge García    </center></h3>\n",
        "\n",
        "<h3><center> Alumno: Hammurabi Sevilla    </center></h3>"
      ]
    },
    {
      "cell_type": "code",
      "metadata": {
        "id": "cOx4duRE2tVE"
      },
      "source": [
        ""
      ],
      "execution_count": null,
      "outputs": []
    },
    {
      "cell_type": "markdown",
      "metadata": {
        "id": "HTIM2hJo2vB9"
      },
      "source": [
        "Esta implementación es por medio de listas secuenciales.\n",
        "La otra forma es con matrices adyacentes."
      ]
    },
    {
      "cell_type": "code",
      "metadata": {
        "id": "fsH40ndpcbdo"
      },
      "source": [
        "# Clase\n",
        "class Nodo:\n",
        "    def __init__(self,key):\n",
        "        self.id = key\n",
        "        self.connectedTo = {}\n",
        "\n",
        "    def addNeighbor(self,nbr,weight=0):\n",
        "        self.connectedTo[nbr] = weight\n",
        "\n",
        "    def __str__(self):\n",
        "        return str(self.id) + ' Conectado con: ' + str([x.id for x in self.connectedTo])\n",
        "\n",
        "    def getConnections(self):\n",
        "        return self.connectedTo.keys()\n",
        "\n",
        "    def getId(self):\n",
        "        return self.id\n",
        "\n",
        "    def getWeight(self,nbr):\n",
        "        return self.connectedTo[nbr]"
      ],
      "execution_count": null,
      "outputs": []
    },
    {
      "cell_type": "code",
      "metadata": {
        "id": "9IZe93P13Fa5"
      },
      "source": [
        "class Grafo:\n",
        "    def __init__(self):\n",
        "        self.nodoList = {}\n",
        "        self.numVertices = 0\n",
        "\n",
        "    def addVertex(self,key):\n",
        "        self.numVertices = self.numVertices + 1\n",
        "        newNodo = Nodo(key)\n",
        "        self.nodoList[key] = newNodo\n",
        "        return newNodo\n",
        "\n",
        "    def getVertex(self,n):\n",
        "        if n in self.nodoList:\n",
        "            return self.nodoList[n]\n",
        "        else:\n",
        "            return None\n",
        "\n",
        "    def __contains__(self,n):\n",
        "        return n in self.nodoList\n",
        "\n",
        "    def addEdge(self,f,t,weight=0):\n",
        "        if f not in self.nodoList:\n",
        "            nv = self.addVertex(f)\n",
        "        if t not in self.nodoList:\n",
        "            nv = self.addVertex(t)\n",
        "        self.nodoList[f].addNeighbor(self.nodoList[t], weight)\n",
        "\n",
        "    def getNodos(self):\n",
        "        return self.nodoList.keys()\n",
        "\n",
        "    def __iter__(self):\n",
        "        return iter(self.nodoList.values())"
      ],
      "execution_count": null,
      "outputs": []
    },
    {
      "cell_type": "code",
      "metadata": {
        "colab": {
          "base_uri": "https://localhost:8080/"
        },
        "id": "QKI_6Cku3Z3A",
        "outputId": "8753915e-d91e-4f43-c0c2-f1e869dc86af"
      },
      "source": [
        "g = Grafo()\n",
        "for i in range(4):\n",
        "    g.addVertex(i)\n",
        "\n",
        "g.addEdge(0,1,5)\n",
        "g.addEdge(0,5,2)\n",
        "g.addEdge(1,2,4)\n",
        "g.addEdge(2,3,9)\n",
        "g.addEdge(3,4,7)\n",
        "g.addEdge(3,5,3)\n",
        "g.addEdge(4,0,1)\n",
        "for v in g:\n",
        "    for w in v.getConnections():\n",
        "        print(\"Nodo: %s , Peso  %s )\" % (v.getId(), w.getId()))"
      ],
      "execution_count": null,
      "outputs": [
        {
          "output_type": "stream",
          "text": [
            "Nodo: 0 , Peso  1 )\n",
            "Nodo: 0 , Peso  5 )\n",
            "Nodo: 1 , Peso  2 )\n",
            "Nodo: 2 , Peso  3 )\n",
            "Nodo: 3 , Peso  4 )\n",
            "Nodo: 3 , Peso  5 )\n",
            "Nodo: 4 , Peso  0 )\n"
          ],
          "name": "stdout"
        }
      ]
    },
    {
      "cell_type": "markdown",
      "metadata": {
        "id": "edvLIUK1zzn5"
      },
      "source": [
        "## Implementación por matrices"
      ]
    },
    {
      "cell_type": "code",
      "metadata": {
        "id": "3JEQ2cVAzwqy"
      },
      "source": [
        "class GrafoMatriz(object):\n",
        "  #constructor\n",
        "  def __init__(self,cantidad):\n",
        "    self.matriz=[]\n",
        "    for i in range(cantidad):\n",
        "      self.matriz.append([0 for i in range(cantidad)]) #inicializamos la matriz en 0\n",
        "    self.cantidad=cantidad\n",
        "  \n",
        "  #Métod agregar\n",
        "  def add_arista(self,verticeo,verticed):\n",
        "    if verticeo == verticed:\n",
        "      print(\"No existen lazos\")\n",
        "    self.matriz[verticeo][verticed]=self.matriz[verticed][verticeo]=1 #simetria de la matriz\n",
        "  \n",
        "  #eliminar conexiones\n",
        "\n",
        "  def remover_arista(self,verticeo,verticed):\n",
        "    if self.matriz[verticeo][verticed] ==0: #si existe conexion\n",
        "      print(\"No hay conexion\")\n",
        "      return\n",
        "    self.matriz[verticeo][verticed]=self.matriz[verticed][verticeo]=0\n",
        "  \n",
        "  def __dimension__(self):\n",
        "    return self.cantidad\n",
        "  \n",
        "  def imprimir(self):\n",
        "    for fila in self.matriz:\n",
        "      print(fila,sep=\"\\t\",end=\"\")\n",
        "      print(\"\\n\")\n",
        "      for item in fila:\n",
        "        \n",
        "        print(str(item), sep=\"\\t\", end=\"\")\n",
        "      print(\"\\n\")\n",
        "  #intentando imprimir más bonito    \n",
        "  def imprimir2(self):\n",
        "    for row in self.matriz:\n",
        "      print(*row, sep='\\t')\n",
        "\n"
      ],
      "execution_count": null,
      "outputs": []
    },
    {
      "cell_type": "code",
      "metadata": {
        "colab": {
          "base_uri": "https://localhost:8080/"
        },
        "id": "avcpFSei1k2C",
        "outputId": "8ec3ff34-850b-485f-810d-8df7394fe8e5"
      },
      "source": [
        "grafo = GrafoMatriz(3)\n",
        "grafo.add_arista(0,1)\n",
        "grafo.add_arista(1,2)\n",
        "grafo.add_arista(1,2)\n",
        "grafo.add_arista(2,0)\n",
        "\n",
        "grafo.imprimir2()\n",
        "\n"
      ],
      "execution_count": null,
      "outputs": [
        {
          "output_type": "stream",
          "text": [
            "0\t1\t1\n",
            "1\t0\t1\n",
            "1\t1\t0\n"
          ],
          "name": "stdout"
        }
      ]
    },
    {
      "cell_type": "markdown",
      "metadata": {
        "id": "asDPUIn5qWLp"
      },
      "source": [
        "## Dibujar nodos"
      ]
    },
    {
      "cell_type": "code",
      "metadata": {
        "id": "ttGMLFuSpmHN"
      },
      "source": [
        "import numpy as np\n",
        "import networkx as nx\n",
        "import matplotlib.pyplot as plt"
      ],
      "execution_count": null,
      "outputs": []
    },
    {
      "cell_type": "code",
      "metadata": {
        "id": "N8x5sr_-rN5O"
      },
      "source": [
        "G.clear()"
      ],
      "execution_count": null,
      "outputs": []
    },
    {
      "cell_type": "code",
      "metadata": {
        "id": "YA7BFxzYpq0Q"
      },
      "source": [
        "# Matriz de adyaciencia\n",
        "A = np.array([['a','b','c','d','e',0],\n",
        "              [0,0,1,0,0,1],\n",
        "              [0,1,0,1,1,1],\n",
        "              [0,0,1,0,1,0],\n",
        "              [0,0,1,1,0,1],\n",
        "              [0,1,1,0,1,0]])"
      ],
      "execution_count": null,
      "outputs": []
    },
    {
      "cell_type": "code",
      "metadata": {
        "id": "RYmXAwXvpxm5"
      },
      "source": [
        "G = nx.from_numpy_matrix(A) # creo nodos a partir de matriz A\n",
        "G.remove_node(0)            # Elimino nodo 0"
      ],
      "execution_count": null,
      "outputs": []
    },
    {
      "cell_type": "code",
      "metadata": {
        "colab": {
          "base_uri": "https://localhost:8080/",
          "height": 319
        },
        "id": "g_tXkLpSp2Lq",
        "outputId": "b9c701bb-7f65-42be-fac4-e027ee4c9bc7"
      },
      "source": [
        "nx.draw(G, with_labels=True, font_weight='bold') # visualizo"
      ],
      "execution_count": null,
      "outputs": [
        {
          "output_type": "display_data",
          "data": {
            "image/png": "[encoded data removed]",
            "text/plain": [
              "<Figure size 432x288 with 1 Axes>"
            ]
          },
          "metadata": {
            "tags": []
          }
        }
      ]
    },
    {
      "cell_type": "markdown",
      "metadata": {
        "id": "wb5q3ZZvqctd"
      },
      "source": [
        "Nota: Verificar que el grafo de arriva corresponde al del ejemplo de la figura 22.1"
      ]
    },
    {
      "cell_type": "code",
      "metadata": {
        "id": "8UvPZ-0Bp4Pc"
      },
      "source": [
        "G.name.node(1,'a')"
      ],
      "execution_count": null,
      "outputs": []
    },
    {
      "cell_type": "code",
      "metadata": {
        "id": "obEo1w0huC3U"
      },
      "source": [
        ""
      ],
      "execution_count": null,
      "outputs": []
    }
  ]
}